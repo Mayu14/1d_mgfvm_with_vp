{
 "cells": [
  {
   "cell_type": "markdown",
   "id": "9d1e9440-09d2-47c1-bc27-c7761834ae44",
   "metadata": {},
   "source": [
    "# EQs\n",
    "## 1d Compressible Euler\n",
    "$\\displaystyle \\frac{\\partial Q}{\\partial t} + \\frac{\\partial F}{\\partial x} = 0$\n",
    "\n",
    "$\\displaystyle e= \\frac{1}{2}\\rho u^2 + \\frac{p}{\\gamma-1}$"
   ]
  },
  {
   "cell_type": "markdown",
   "id": "c920cc70-9fbd-453d-9f2e-c2f8c520169b",
   "metadata": {},
   "source": [
    "### Brinkman Penalization\n",
    "#### mass\n",
    "\n",
    "##### original\n",
    "$\\displaystyle \\frac{\\partial \\rho}{\\partial t} + \\chi U_{0,j} \\frac{\\partial \\rho}{\\partial x_j} = - \\frac{\\chi_h}{\\eta_c} \\frac{\\partial \\rho}{\\partial n} + \\frac{\\chi_h}{\\eta_c} \\frac{\\rho^2}{p} \\hat{u}_j^\\tau \\hat{u}_k^\\tau \\frac{\\partial n_k}{\\partial x_j} + \\chi_d \\nu_n \\nabla^2 \\rho$\n",
    "\n",
    "##### 2-D\n",
    "$\\displaystyle \\frac{\\partial \\rho}{\\partial t} + \\chi \\left( U_0 \\frac{\\partial \\rho}{\\partial x} + V_0 \\frac{\\partial \\rho}{\\partial y} \\right) = - \\frac{\\chi_h}{\\eta_c} \\frac{\\partial \\rho}{\\partial n} + \\frac{\\chi_h}{\\eta_c} \\frac{\\rho^2}{p} \\left( \\hat{u}^\\tau \\hat{u}^\\tau \\frac{\\partial n_x}{\\partial x} +  \\hat{u}^\\tau \\hat{v}^\\tau \\frac{\\partial n_y}{\\partial x} + \\hat{v}^\\tau \\hat{u}^\\tau \\frac{\\partial n_x}{\\partial y} + \\hat{v}^\\tau \\hat{v}^\\tau \\frac{\\partial n_y}{\\partial y} \\right) + \\chi_d \\nu_n \\left( \\frac{\\partial^2 \\rho}{\\partial x^2} + \\frac{\\partial^2 \\rho}{\\partial y^2} \\right)$\n",
    "\n",
    "##### 1-D\n",
    "$\\displaystyle \\frac{\\partial \\rho}{\\partial t} + \\chi U_0 \\frac{\\partial \\rho}{\\partial x} = - \\frac{\\chi_h}{\\eta_c} \\frac{\\partial \\rho}{\\partial x} + \\chi_d \\nu_n \\frac{\\partial^2 \\rho}{\\partial x^2}$"
   ]
  },
  {
   "cell_type": "markdown",
   "id": "07605f6f-2a25-4847-9abc-906c35dd748a",
   "metadata": {},
   "source": [
    "#### momentum\n",
    "$\\displaystyle \\frac{\\partial \\left( \\rho u_i^n \\right) }{\\partial t} + \\chi U_{0,j} \\frac{\\partial \\left( \\rho u_i^n \\right) }{ \\partial x_j } = - \\frac{\\chi}{\\eta_b} \\rho \\hat{u}_i^n + \\chi \\nu_n \\nabla^2 u_i^n$\n",
    "\n",
    "$\\displaystyle \\frac{\\partial \\left( \\rho u_i^\\tau \\right) }{\\partial t} + \\chi U_{0,j} \\frac{\\partial \\left( \\rho u_i^\\tau \\right) }{ \\partial x_j } = - \\frac{\\chi_h}{\\eta_c} \\frac{\\partial \\left( \\rho u_i^\\tau \\right) }{ \\partial n } + \\frac{\\chi_h}{\\eta_c} \\frac{\\rho^2}{p} u_i^\\tau \\hat{u}_j^n \\hat{u}_k^n \\frac{\\partial n_k}{\\partial x_j} + \\chi_d \\nu_n \\nabla^2 u_i^\\tau$\n",
    "\n",
    "$\\displaystyle \\frac{\\partial \\left( \\rho u_i \\right) }{\\partial t} + \\chi U_{0,j} \\frac{\\partial \\left( \\rho u_i \\right) }{ \\partial x_j } = - \\frac{\\chi}{\\eta_b} \\rho \\hat{u}_i^n - \\frac{\\chi_h}{\\eta_c} \\frac{\\partial \\left( \\rho u_i^\\tau \\right) }{ \\partial n } + \\frac{\\chi_h}{\\eta_c} \\frac{\\rho^2}{p} u_i^\\tau \\hat{u}_j^n \\hat{u}_k^n \\frac{\\partial n_k}{\\partial x_j} + \\chi \\nu_n \\nabla^2 u_i^n + \\chi_d \\nu_n \\nabla^2 u_i^\\tau$\n",
    "\n",
    "##### 2-D\n",
    "$\\displaystyle \\frac{\\partial \\left( \\rho u_i \\right) }{\\partial t} + \\chi \\left( U_0 \\frac{\\partial \\left( \\rho u \\right) }{ \\partial x } + V_0 \\frac{\\partial \\left( \\rho v \\right) }{ \\partial y } \\right) = $\n",
    "$\\displaystyle - \\frac{\\chi}{\\eta_b} \\rho \\hat{u}_i^n - \\frac{\\chi_h}{\\eta_c} \\frac{\\partial \\left( \\rho u_i^\\tau \\right) }{ \\partial n } + \\frac{\\chi_h}{\\eta_c} \\frac{\\rho^2}{p} u_i^\\tau \\left( \\hat{u}^n \\hat{u}^n \\frac{\\partial n_x}{\\partial x} + \\hat{u}^n \\hat{v}^n \\frac{\\partial n_y}{\\partial x} + \\hat{v}^n \\hat{u}^n \\frac{\\partial n_x}{\\partial y} + \\hat{v}^n \\hat{v}^n \\frac{\\partial n_y}{\\partial y} \\right) + \\nu_n \\left( \\chi - \\chi_d \\right) \\left( n_x \\nabla^2 u + n_y \\nabla^2 v \\right) n_i + \\chi_d \\nu_n \\nabla^2 u_i$  \n",
    "\n",
    "##### 1-D\n",
    "$\\displaystyle \\frac{\\partial \\left( \\rho u \\right) }{\\partial t} + \\chi \\left( U_0 \\frac{\\partial \\left( \\rho u \\right) }{ \\partial x } \\right) = - \\frac{\\chi}{\\eta_b} \\rho \\hat{u}_i + \\chi \\nu_n \\frac{\\partial^2 u}{\\partial x^2}$  "
   ]
  },
  {
   "cell_type": "markdown",
   "id": "08f32490-2132-4b33-a8f3-bb9f0bd9b727",
   "metadata": {},
   "source": [
    "#### energy\n",
    "$\\displaystyle \\frac{\\partial e }{\\partial t} + \\chi U_{0,j} \\frac{\\partial e }{ \\partial x_j } = - \\frac{\\chi_h}{\\eta_c} \\frac{\\partial e}{\\partial n} + \\frac{\\chi_h}{\\eta_c} \\frac{\\rho}{\\gamma - 1} \\hat{u}_j^\\tau \\hat{u}_k^\\tau \\frac{\\partial n_k}{\\partial x_j} + \\frac{\\chi_h}{\\eta_c} u_j^n \\frac{ \\partial \\rho u_j^n }{\\partial n} + \\chi_h u_j^n \\nu_n \\nabla^2 u_j^n - \\frac{\\chi_h}{\\eta_b} \\rho u_j^n \\hat{u}_j^n + \\chi_d \\nu_n \\nabla^2 e $\n",
    "\n",
    "##### 2-D\n",
    "$\\displaystyle \\frac{\\partial e }{\\partial t} + \\chi \\left( U_0 \\frac{\\partial e }{ \\partial x } + V_0 \\frac{\\partial e }{ \\partial y } \\right) = $  \n",
    "$\\displaystyle - \\frac{\\chi_h}{\\eta_c} \\frac{\\partial e}{\\partial n} + \\frac{\\chi_h}{\\eta_c} \\frac{\\rho}{\\gamma - 1} \\left( \\hat{u}^n \\hat{u}^n \\frac{\\partial n_x}{\\partial x} + \\hat{u}^n \\hat{v}^n \\frac{\\partial n_y}{\\partial x} + \\hat{v}^n \\hat{u}^n \\frac{\\partial n_x}{\\partial y} + \\hat{v}^n \\hat{v}^n \\frac{\\partial n_y}{\\partial y} \\right) $  \n",
    "$\\displaystyle + \\frac{\\chi_h}{\\eta_c} \\left( u^n \\frac{ \\partial \\rho u^n }{\\partial n} + v^n \\frac{ \\partial \\rho v^n }{\\partial n} \\right) + \\chi_h \\nu_n \\left\\{ u^n \\left( \\frac{\\partial^2 u}{\\partial x^2} + \\frac{\\partial^2 u}{\\partial y^2} \\right) + v^n \\left( \\frac{\\partial^2 v}{\\partial x^2} + \\frac{\\partial^2 v}{\\partial y^2} \\right) \\right\\} - \\frac{\\chi_h}{\\eta_b} \\rho \\left( u^n \\hat{u}^n + v^n \\hat{v}^n \\right) + \\chi_d \\nu_n \\left( \\frac{\\partial^2 e}{\\partial x^2} + \\frac{\\partial^2 e}{\\partial y^2} \\right) $\n",
    "\n",
    "##### 1-D\n",
    "$\\displaystyle \\frac{\\partial e }{\\partial t} + \\chi U_0 \\frac{\\partial e }{ \\partial x } = - \\frac{\\chi_h}{\\eta_c} \\frac{\\partial e}{\\partial n} + \\frac{\\chi_h}{\\eta_c} + \\frac{\\chi_h}{\\eta_c} \\left( u^n \\frac{ \\partial \\rho u^n }{\\partial n} \\right) + \\chi_h \\nu_n u^n \\frac{\\partial^2 u}{\\partial x^2} - \\frac{\\chi_h}{\\eta_b} \\rho u^n \\hat{u}^n + \\chi_d \\nu_n \\frac{\\partial^2 e}{\\partial x^2}$\n"
   ]
  },
  {
   "cell_type": "markdown",
   "id": "e27915a7-8ad0-4864-9777-6ea681fb6931",
   "metadata": {},
   "source": [
    "##### FDM (gradient)\n",
    "$\\displaystyle \\frac{\\partial \\phi}{\\partial n} = \\left( \\nabla \\phi, \\vec{n} \\right) = \\frac{\\partial \\phi}{\\partial x} n_x + \\frac{\\partial \\phi}{\\partial y} n_y + \\frac{\\partial \\phi}{\\partial z} n_z $  \n",
    "\n",
    "$\\displaystyle \\nabla{\\phi} = \\left( \\bf{R}^T\\bf{R} \\right)^{-1} \\bf{R}^T \\Phi_R$  \n",
    "where  \n",
    "$\\displaystyle R_{ij}=r_{j,i}$  \n",
    "$\\displaystyle \\Phi_{R,i}=\\frac{\\partial \\phi}{\\partial r_i}$  "
   ]
  },
  {
   "cell_type": "code",
   "execution_count": null,
   "id": "9437d206-f5f4-4b2d-af24-6b7e314ef1cc",
   "metadata": {},
   "outputs": [],
   "source": []
  }
 ],
 "metadata": {
  "kernelspec": {
   "display_name": "Python 3 (ipykernel)",
   "language": "python",
   "name": "python3"
  },
  "language_info": {
   "codemirror_mode": {
    "name": "ipython",
    "version": 3
   },
   "file_extension": ".py",
   "mimetype": "text/x-python",
   "name": "python",
   "nbconvert_exporter": "python",
   "pygments_lexer": "ipython3",
   "version": "3.9.2"
  }
 },
 "nbformat": 4,
 "nbformat_minor": 5
}
