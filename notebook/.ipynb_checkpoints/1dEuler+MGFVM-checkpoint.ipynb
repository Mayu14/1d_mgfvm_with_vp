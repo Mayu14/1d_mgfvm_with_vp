{
 "cells": [
  {
   "cell_type": "markdown",
   "id": "78a97dee-ee21-4a69-ade5-c630a52e3218",
   "metadata": {},
   "source": [
    "# 1次元圧縮性Euler方程式\n",
    "## 支配方程式\n",
    "$\\displaystyle \\frac{\\partial Q}{\\partial t} + \\frac{\\partial F}{\\partial x} = 0$\n",
    "\n",
    "$\\displaystyle e= \\frac{1}{2}\\rho u^2 + \\frac{p}{\\gamma-1}$"
   ]
  },
  {
   "cell_type": "markdown",
   "id": "63a1ca2b-4eeb-4f10-adcc-756c0cb6d477",
   "metadata": {
    "tags": []
   },
   "source": [
    "where  \n",
    "$Q = \\left[\n",
    "\\begin{matrix}\n",
    "\\rho \\\\ \n",
    "\\rho u \\\\\n",
    "e\n",
    "\\end{matrix}\n",
    "\\right]$\n",
    "\n",
    "$F = \\left[\n",
    "\\begin{matrix}\n",
    "\\rho u \\\\ \n",
    "\\rho u^2 + p \\\\\n",
    "(E + p)u\n",
    "\\end{matrix}\n",
    "\\right]$\n",
    "\n",
    "$\\rho$ is density of fluid, \n",
    "$u$ is flow velocity, \n",
    "$e$ is total energy per unit mass, and\n",
    "$p$ is pressure."
   ]
  },
  {
   "cell_type": "markdown",
   "id": "870cb229-de8e-42fb-9535-11201f51226c",
   "metadata": {
    "tags": []
   },
   "source": [
    "## Flux jacobian\n",
    "$\\displaystyle \\frac{\\partial F}{\\partial Q} = A = P\\Lambda P^{-1}$\n",
    "\n",
    "where \n",
    "\n",
    "$\\displaystyle P=\\left[\n",
    "\\begin{matrix}\n",
    "1 & 1 & 1 \\\\ \n",
    "u-a & u & u+a \\\\\n",
    "H-au & \\frac{u^2}{2} & H+au\n",
    "\\end{matrix}\n",
    "\\right]$\n",
    "\n",
    "$\\displaystyle \\Lambda = \\left[\n",
    "\\begin{matrix}\n",
    "u-a & 0 & 0 \\\\ \n",
    "0 & u & 0 \\\\\n",
    "0 & 0 & u+a\n",
    "\\end{matrix}\n",
    "\\right]$\n",
    "\n",
    "$\\displaystyle P^{-1}=\\left[\n",
    "\\begin{matrix}\n",
    "\\frac{1}{2}\\left( \\alpha_1 + \\frac{u}{a} \\right) & -\\frac{1}{2}\\left( \\alpha_2 u + \\frac{1}{a} \\right) & \\frac{\\alpha_2}{2} \\\\ \n",
    "1-\\alpha_1 & \\alpha_2u & -\\alpha_2 \\\\\n",
    "\\frac{1}{2}\\left( \\alpha_1 - \\frac{u}{a} \\right) & -\\frac{1}{2}\\left( \\alpha_2 u - \\frac{1}{a} \\right) & \\frac{\\alpha_2}{2} \\\\ \n",
    "\\end{matrix}\n",
    "\\right]$\n",
    "\n",
    "$\\displaystyle \\alpha_1 = \n",
    "\\frac{\\left( \\gamma - 1 \\right) u^2}\n",
    "{2a^2}$\n",
    "\n",
    "$\\displaystyle \\alpha_2 = \n",
    "\\frac{\\left( \\gamma - 1 \\right)}\n",
    "{a^2}$"
   ]
  },
  {
   "cell_type": "markdown",
   "id": "7747756e-f519-450a-9a33-819f0b9100f9",
   "metadata": {},
   "source": [
    "$H$ is total enthalpy, $T$ is temperature, and $a$ is speed of sound.\n",
    "\n",
    "$\\displaystyle H = \\rho c_p T = \\frac{\\gamma}{\\gamma - 1} \\rho T = \\frac{\\gamma}{\\gamma - 1}p$  \n",
    "$\\displaystyle T = \\frac{p}{\\rho}$  \n",
    "$\\displaystyle a = \\sqrt{ \\gamma \\frac{p}{\\rho} }$\n"
   ]
  },
  {
   "cell_type": "markdown",
   "id": "a23bdbb5-da3c-473e-823c-cedff14ab39b",
   "metadata": {},
   "source": [
    "$\\gamma = 1.4$ is heat capacity ratio."
   ]
  },
  {
   "cell_type": "markdown",
   "id": "c92120ec-f94b-47dd-9f91-d36d45af51ee",
   "metadata": {},
   "source": [
    "## descritization\n",
    "$\\displaystyle \\int_\\Omega \\left( \\frac{\\partial Q_i}{\\partial t} + \\frac{\\partial F_i}{\\partial x} \\right) d\\Omega=\\int_\\Omega \\tilde{ \\nabla } \\tilde{ F }_i d\\Omega=0$"
   ]
  },
  {
   "cell_type": "markdown",
   "id": "1461a987-9f40-404e-93b3-f275d4f3e618",
   "metadata": {},
   "source": [
    "where\n",
    "$\\displaystyle \\tilde{ \\nabla } = \\left( \\frac{\\partial }{\\partial t}, \\frac{\\partial }{\\partial x}\\right)$\n",
    "$\\displaystyle \\tilde{ F }_i = \\left( Q_i, F_i \\right)$"
   ]
  },
  {
   "cell_type": "markdown",
   "id": "6b6feff7-137d-4fcb-ba43-91cb07b14e1f",
   "metadata": {},
   "source": [
    "$\\displaystyle \\int_\\Omega \\tilde{ \\nabla } \\tilde{ F }_i d\\Omega = \\int_{\\partial \\Omega} \\tilde{ F }_i \\vec{n} d\\left( \\partial \\Omega \\right) = 0$  \n",
    "where \n",
    "$\\vec{ n } =\\left( n_t, n_x \\right)$"
   ]
  },
  {
   "cell_type": "markdown",
   "id": "bc8341ce-cd7a-433a-bb05-67f64faf4217",
   "metadata": {},
   "source": [
    "$\\displaystyle \\int_{\\partial \\Omega} \\tilde{ F }_i \\vec{n} d\\left( \\partial \\Omega \\right)\n",
    "= \\sum_{ j \\in \\partial \\Omega  } \\tilde{F}_{ij} \\vec{n}_j \\delta (\\partial \\Omega)_j\n",
    "= \\sum_{ j \\in \\partial \\Omega  } \\tilde{F}_{ij} \\vec{\\tilde{n}}_j = 0\n",
    "$  \n",
    "where $\\vec{\\tilde{n}}_j = \\vec{n}_j \\delta (\\partial \\Omega)_j$"
   ]
  },
  {
   "cell_type": "markdown",
   "id": "c302b924-49e0-4e71-8b54-adb6985c8245",
   "metadata": {
    "tags": []
   },
   "source": [
    "$\\displaystyle j=1 : \\left( t=n, x=i \\right)$  \n",
    "$\\displaystyle \\tilde{F}_{i1} \\vec{\\tilde{n}}_1 = \\left( Q_{i}^{n}, F_{i}^{n} \\right) \\cdot \\left( -\\Delta x_i^{n}, 0 \\right) = -Q_{i}^{n}\\Delta x_i^{n}$  "
   ]
  },
  {
   "cell_type": "markdown",
   "id": "14340e4f-10d7-4cf2-a4ee-ca437350fdb1",
   "metadata": {},
   "source": [
    "$\\displaystyle j=2 : \\left( t=n+\\frac{1}{2}, x=i+\\frac{1}{2} \\right)$  \n",
    "$\\displaystyle \\tilde{F}_{i2} \\vec{\\tilde{n}}_2$\n",
    "$= \\left( Q_{i+\\frac{1}{2}}^{n+\\frac{1}{2}}, F_{i+\\frac{1}{2}}^{n+\\frac{1}{2}} \\right) \\cdot \\left( -\\delta x_{i+\\frac{1}{2}}^{n+\\frac{1}{2}}, \\Delta t \\right) = - Q_{i+\\frac{1}{2}}^{n+\\frac{1}{2}} \\delta x_{i+\\frac{1}{2}}^{n+\\frac{1}{2}} + F_{i+\\frac{1}{2}}^{n+\\frac{1}{2}} \\Delta t$  "
   ]
  },
  {
   "cell_type": "markdown",
   "id": "be6ac801-dfc9-48a2-94f9-5f5b9115132c",
   "metadata": {},
   "source": [
    "$\\displaystyle j=3 : \\left( t=n, x=i \\right)$  \n",
    "$\\displaystyle \\tilde{F}_{i3} \\vec{\\tilde{n}}_3 = \\left( Q_{i}^{n+1}, F_{i}^{n+1} \\right) \\cdot \\left( \\Delta x_i^{n+1}, 0 \\right) = Q_{i}^{n+1}\\Delta x_i^{n+1}$  \n"
   ]
  },
  {
   "cell_type": "markdown",
   "id": "52cfd271-066f-43c0-a24f-0cde02b2c55a",
   "metadata": {},
   "source": [
    "$\\displaystyle j=4 : \\left( t=n+\\frac{1}{2}, x=i-\\frac{1}{2} \\right)$  \n",
    "$\\displaystyle \\tilde{F}_{i4} \\vec{\\tilde{n}}_4$\n",
    "$= \\left( Q_{i-\\frac{1}{2}}^{n+\\frac{1}{2}}, F_{i-\\frac{1}{2}}^{n+\\frac{1}{2}} \\right) \\cdot \\left( \\delta x_{i-\\frac{1}{2}}^{n+\\frac{1}{2}}, -\\Delta t \\right) = Q_{i-\\frac{1}{2}}^{n+\\frac{1}{2}} \\delta x_{i-\\frac{1}{2}}^{n+\\frac{1}{2}} - F_{i-\\frac{1}{2}}^{n+\\frac{1}{2}} \\Delta t$  "
   ]
  },
  {
   "cell_type": "markdown",
   "id": "bd2b53fd-a4f3-415f-9a6a-cabdb776b429",
   "metadata": {},
   "source": [
    "where  \n",
    "$\\displaystyle Q^{n+\\frac{1}{2}} = \\frac{1}{2}\\left( Q^n + Q^{n+1} \\right)$  \n",
    "$\\displaystyle F^{n+\\frac{1}{2}} = \\frac{1}{2}\\left( F^n + F^{n+1} \\right)$  "
   ]
  },
  {
   "cell_type": "markdown",
   "id": "44041a26-90d6-4b01-b74a-8e5a3048ab09",
   "metadata": {},
   "source": [
    "$\\displaystyle Q_{\\frac{i+j}{2}} = Roe\\left( Q_i , Q_j \\right) = \\left[\n",
    "\\begin{matrix}\n",
    "\\rho_{roe} \\\\ \n",
    "\\rho_{roe} u_{roe} \\\\\n",
    "e_{roe}\n",
    "\\end{matrix}\n",
    "\\right]$ \n",
    "\n",
    "$\\displaystyle F_{\\frac{i+j}{2}} = \\frac{1}{2} \\left( F_i + F_{j} \\right) - \\frac{1}{2} A_{roe} \\left( Q_j - Q_i \\right)$  \n",
    "\n",
    "$e_{roe}=\\frac{1}{\\gamma}H_{roe} + \\frac{1}{2}\\rho_{roe}u_{roe}^2$"
   ]
  },
  {
   "cell_type": "markdown",
   "id": "5319e320-f786-42bc-931b-9b27c2009de1",
   "metadata": {},
   "source": [
    "$A^{roe} = P\\Lambda P^{-1}$  \n",
    "Note that $P$, $\\Lambda$ and $P^{-1}$ are calculated from the variable of roe average."
   ]
  },
  {
   "cell_type": "markdown",
   "id": "8cf8bddf-d209-4a10-91ca-34b022c218f6",
   "metadata": {},
   "source": [
    "### Roe average\n",
    "$\\rho_{roe} = \\sqrt{\\rho_i \\rho_j}$  \n",
    "$\\displaystyle u_{roe} = \\frac{\\sqrt{\\rho_i} u_i + \\sqrt{\\rho_j} u_j}{\\sqrt{\\rho_i} + \\sqrt{\\rho_j} }$  \n",
    "$\\displaystyle H_{roe} = \\frac{\\sqrt{\\rho_i} H_i + \\sqrt{\\rho_j} H_j}{\\sqrt{\\rho_i} + \\sqrt{\\rho_j} }$  \n",
    "$\\displaystyle a_{roe} = \\sqrt{ \\left( \\gamma - 1 \\right) \\left( H_{roe} - \\frac{u_{roe}^2}{2} \\right) }$  "
   ]
  },
  {
   "cell_type": "markdown",
   "id": "f88904df-5696-46fe-8f96-d2c0c8c9ae0a",
   "metadata": {},
   "source": [
    "## Time step\n",
    "$\\displaystyle L\\left( Q_i^{n + 1}, Q_i^{n}\\right) = \n",
    "\\frac{1}{\\Delta t} \\left( \n",
    "        Q_i^{n+1}\n",
    "        - \\frac{ \\Delta x_i^{n} }{ \\Delta x_i^{n+1} } Q_i^{n}\n",
    "    \\right)\n",
    "    + \n",
    "    \\frac{1}{\\Delta x_i^{n+1}} \\left(\n",
    "        F_{i + \\frac{1}{2}}^{ n + \\frac{1}{2}}\n",
    "      - F_{i - \\frac{1}{2}}^{ n + \\frac{1}{2}}\n",
    "    \\right)\n",
    "    - \\frac{1}{\\Delta t} \\left(\n",
    "        \\frac{ \\delta x_{i + \\frac{1}{2}}^{ n + \\frac{1}{2}} }\n",
    "             {\\Delta x_{i}^{ n + 1}}\n",
    "        Q_{i + \\frac{1}{2}}^{ n + \\frac{1}{2}}\n",
    "      - \\frac{ \\delta x_{i - \\frac{1}{2}}^{ n + \\frac{1}{2}} }\n",
    "             {\\Delta x_{i}^{ n + 1}}\n",
    "        Q_{i - \\frac{1}{2}}^{ n + \\frac{1}{2}}\n",
    "    \\right)\n",
    "$"
   ]
  },
  {
   "cell_type": "markdown",
   "id": "d262a161-d2f9-4653-8b26-c4cdaf4de9b3",
   "metadata": {},
   "source": [
    "$\\displaystyle \\frac{\\partial Q}{\\partial \\tau} = -L\\left( Q_i^{n+1}, Q_i^{n}\\right)$"
   ]
  },
  {
   "cell_type": "markdown",
   "id": "32cf1a26-a648-4648-bb2c-df40126bfe0c",
   "metadata": {},
   "source": [
    "### explicit euler\n",
    "$\\displaystyle Q_i^{\\left( n+1 \\right)\\left( \\nu+1 \\right)} = Q_i^{\\left( n+1 \\right)\\left( \\nu \\right)} -\\Delta \\tau L\\left( Q_i^{\\left( n+1 \\right)\\left( \\nu \\right)}, Q_i^{n}\\right)$  \n",
    "where\n",
    "$Q_i^{\\left( n+1 \\right)\\left( 0 \\right)} = Q_i^{n}$"
   ]
  },
  {
   "cell_type": "markdown",
   "id": "c7cf8b8c-4de5-4600-a413-fd9bdeb7f836",
   "metadata": {},
   "source": [
    "where $\\left( , \\right)$ means dot product of all region.  \n",
    "$\\left( g_a, g_b\\right) = \\sum_{i=1}^{N} \\sum_{j=1}^{3} g_{aij} g_{bij}$  \n",
    "Note that the result is scalar variable."
   ]
  },
  {
   "cell_type": "markdown",
   "id": "2d04f480-f50a-43e8-8b2c-3792c4122dc5",
   "metadata": {},
   "source": [
    "where  \n",
    "$b_1 = 17$  \n",
    "$b_2 = -16$  \n",
    "$c_2 = \\frac{1}{32}$  \n",
    "$\\alpha = \\left\\{\n",
    "\\begin{array}{ll}\n",
    "2.1 & (CFL \\leq 1) \\\\\n",
    "\\frac{1.22}{CFL}-0.07CFL+0.95 & \\left( 1.0 < CFL < 10.0 \\right)\n",
    "\\end{array}\n",
    "\\right.\n",
    "$  "
   ]
  },
  {
   "cell_type": "markdown",
   "id": "34587b31-0191-480a-81a1-bbcc565928f4",
   "metadata": {
    "tags": []
   },
   "source": [
    "### RRK2\n",
    "$\\displaystyle g_1 = -\\Delta \\tau L\\left( Q_i^{\\left( n+1 \\right)\\left( \\nu \\right)}, Q_i^{n}\\right)$  \n",
    "$\\displaystyle g_2 = -\\Delta \\tau L\\left( Q_i^{\\left( n+1 \\right)\\left( \\nu \\right)} + c_2g_1, Q_i^{n}\\right)$  \n",
    "$g_3=b_1g_1 + b_2g_2$  \n",
    "$Q_i^{\\left( n+1 \\right)\\left( \\nu + 1\\right)} = Q_i^{\\left( n+1 \\right)\\left( \\nu \\right)} + \\frac{2g_1\\left( g_1, g_3\\right) - g_3\\left( g_1, g_1\\right)}{\\left( g_3, g_3\\right)}$  \n",
    "$Q_i^{\\left( n+1 \\right)\\left( 0 \\right)} = Q_i^{n}$"
   ]
  },
  {
   "cell_type": "code",
   "execution_count": 51,
   "id": "697ec65d-a041-4f1b-acc0-a2d281356811",
   "metadata": {
    "tags": []
   },
   "outputs": [],
   "source": [
    "from math import sqrt\n",
    "import numpy as np\n",
    "\n",
    "# constant\n",
    "L=3 # [m]\n",
    "U=5 # [m/s]\n",
    "P=101325 # [Pa]\n",
    "Rho = 1.293 # [m^3/kg]\n",
    "T=298 # [K]\n",
    "\n",
    "g = 1.4\n",
    "g1 = g - 1\n",
    "\n",
    "non_L = 1\n",
    "non_U = 1\n",
    "non_Rho = 1\n",
    "non_T = 1\n",
    "non_P = non_Rho * non_T\n",
    "non_e = 1/2 * non_Rho * non_U**2 + non_P / g1\n",
    "\n",
    "def e2p(Q):\n",
    "    rho = Q[:, 0]\n",
    "    u = Q[:, 1] / Q[:, 0]\n",
    "    e = Q[:, 2]\n",
    "    p = g1 * ( e - 1/2 * rho * u**2 )\n",
    "    return p\n",
    "\n",
    "def e2T(Q):\n",
    "    p = e2p(Q)\n",
    "    rho = Q[:, 0]\n",
    "    T = p / rho\n",
    "    return T\n",
    "\n",
    "# paramter for rrk2\n",
    "b1 = 17\n",
    "b2 = -16\n",
    "c2 = 1/32"
   ]
  },
  {
   "cell_type": "code",
   "execution_count": 61,
   "id": "f998c7d2-e583-43c5-9ff6-30c338845534",
   "metadata": {
    "tags": []
   },
   "outputs": [],
   "source": [
    "\n",
    "def q2b(q):\n",
    "    rho = q[0]\n",
    "    u = q[1] / q[0]\n",
    "    e = q[2] \n",
    "    p = g1 * ( e - (rho * u**2 / 2) )\n",
    "    return rho, u, e, p\n",
    "\n",
    "def q2f(q):\n",
    "    (rho, u, e, p) = q2b(q)\n",
    "    F = np.zeros(3)\n",
    "    F[0] = rho * u\n",
    "    F[1] = rho * u**2 + p\n",
    "    F[2] = (e + p) * u\n",
    "    return F\n",
    "\n",
    "def get_roe_average(qi, qj):\n",
    "    ( rho_i, u_i, e_i, p_i ) = q2b(qi)\n",
    "    ( rho_j, u_j, e_j, p_j ) = q2b(qj)\n",
    "    H_i = ( g / g1 ) * p_i\n",
    "    H_j = ( g / g1 ) * p_j\n",
    "    # print(qi, qj)\n",
    "    rho = sqrt(rho_i * rho_j)\n",
    "    u = ( sqrt(rho_i) * u_i + sqrt(rho_j) * u_j ) / (sqrt(rho_i) + sqrt(rho_j) )\n",
    "    H = ( sqrt(rho_i) * H_i + sqrt(rho_j) * H_j ) / (sqrt(rho_i) + sqrt(rho_j) )\n",
    "    a = sqrt( g1 * ( H - u**2/2 ) )\n",
    "    return rho, u, H, a\n",
    "\n",
    "def roe_fds(qi, qj):\n",
    "    rho, u, H, a = get_roe_average(qi, qj)\n",
    "    \n",
    "    P = np.zeros((3,3))\n",
    "    invP = np.zeros((3,3))\n",
    "    L = np.zeros((3,3))\n",
    "    \n",
    "    a1 = ( g1 * u**2 ) / (2 * a**2)\n",
    "    a2 = g1 / a**2\n",
    "    \n",
    "    P[0, 0] = 1\n",
    "    P[0, 1] = 1\n",
    "    P[0, 2] = 1\n",
    "    P[1, 0] = u - a\n",
    "    P[1, 1] = u\n",
    "    P[1, 2] = u + a\n",
    "    P[2, 0] = H - a * u\n",
    "    P[2, 1] = u**2 / 2\n",
    "    P[2, 2] = H + a * u\n",
    "\n",
    "    L[0, 0] = abs(u - a)\n",
    "    L[1, 1] = abs(u)\n",
    "    L[2, 2] = abs(u + a) \n",
    "    \n",
    "    invP[0, 0] = 1/2 * (a1 + u/a)\n",
    "    invP[0, 1] = -1/2 * (a2*u + 1/a)\n",
    "    invP[0, 2] = a2 / 2\n",
    "    invP[1, 0] = 1 - a1\n",
    "    invP[1, 1] = a2 * u\n",
    "    invP[1, 2] = -a2\n",
    "    invP[2, 0] = 1/2*(a1 - u/a)\n",
    "    invP[2, 1] = -1/2 * (a2*u - 1/a)\n",
    "    invP[2, 2] = a2 / 2\n",
    "\n",
    "    dq = qj - qi\n",
    "    dF = np.dot(P, np.dot(L, np.dot(invP, dq)))\n",
    "    \n",
    "    F_i = q2f(qi)\n",
    "    F_j = q2f(qj)\n",
    "    #print(qi, qj)\n",
    "    #print(F_i, F_j)\n",
    "    roeF = 1/2 * (F_i + F_j) - 1/2*dF\n",
    "    return roeF  "
   ]
  },
  {
   "cell_type": "code",
   "execution_count": 42,
   "id": "75409ded-2339-438d-9a63-ac0c0dd35881",
   "metadata": {
    "tags": []
   },
   "outputs": [],
   "source": [
    "def flux(Q, qB):\n",
    "    F = np.zeros((n+1, 3))\n",
    "    for j in range(n+1):\n",
    "        if ( j == 0 ):\n",
    "            qi = qB[:, 0]\n",
    "        else:\n",
    "            qi = Q[j-1, :]\n",
    "            \n",
    "        if ( j == n):\n",
    "            qj = qB[:, 1]\n",
    "        else:\n",
    "            qj = Q[j  , :]\n",
    "            \n",
    "        F[j, :] = roe_fds(qi, qj)\n",
    "\n",
    "    return F\n",
    "\n",
    "\n",
    "def roeQ(Q, qB):\n",
    "    roeQ = np.zeros((n+1, 3))\n",
    "    for j in range(n+1):\n",
    "        if ( j == 0 ):\n",
    "            qi = qB[:, 0]\n",
    "        else:\n",
    "            qi = Q[j-1, :]\n",
    "            \n",
    "        if ( j == n):\n",
    "            qj = qB[:, 1]\n",
    "        else:\n",
    "            qj = Q[j  , :]\n",
    "        \n",
    "        rho, u, H, a = get_roe_average(qi, qj)\n",
    "        m = rho*u\n",
    "        e = 1/g*H + 1/2*rho*u**2\n",
    "        roeQ[j, 0] = rho\n",
    "        roeQ[j, 1] = m\n",
    "        roeQ[j, 2] = e\n",
    "\n",
    "    return roeQ\n",
    "    "
   ]
  },
  {
   "cell_type": "code",
   "execution_count": 108,
   "id": "d5591769-665a-4346-829f-585709572c53",
   "metadata": {
    "tags": []
   },
   "outputs": [],
   "source": [
    "def update_dx_from_edge(x_e):\n",
    "    dx = np.diff(x_e)\n",
    "    return dx\n",
    "\n",
    "def update_x_from_edge(x_e):\n",
    "    x_c = np.zeros(n)\n",
    "    for i in range(n):\n",
    "        x_c[i] = (x_e[i] + x_e[i+1])/2\n",
    "    return x_c\n",
    "   \n",
    "def update_x(t, x_e_0=None, omega=1, fixed=False):\n",
    "    # x_c = np.zeros(n)\n",
    "    x_e = np.zeros(n+1)\n",
    "    avg_dx = non_L / n\n",
    "    avg_rad = 2*np.pi*omega*t\n",
    "    for j in range(n+1):\n",
    "        if fixed or ( j == 0 ) or ( j == n ):\n",
    "            x_e[j] = j * avg_dx\n",
    "        else:\n",
    "            x_e[j] = j * avg_dx + ( avg_dx )*np.sin( avg_rad + j * ( 2*np.pi/(n+1) ) )\n",
    "        \n",
    "    x_c = update_x_from_edge(x_e)\n",
    "    dx = update_dx_from_edge(x_e)\n",
    "    delta_x = np.zeros(n+1)\n",
    "    if x_e_0 is not None:\n",
    "        delta_x = x_e - x_e_0\n",
    "    return x_c, x_e, dx, delta_x"
   ]
  },
  {
   "cell_type": "code",
   "execution_count": 109,
   "id": "2b39b767-2523-433d-992b-252adf188243",
   "metadata": {
    "tags": []
   },
   "outputs": [
    {
     "data": {
      "text/plain": [
       "<matplotlib.collections.PathCollection at 0x7fb358ba9490>"
      ]
     },
     "execution_count": 109,
     "metadata": {},
     "output_type": "execute_result"
    },
    {
     "data": {
      "image/png": "[encoded data removed]",
      "text/plain": [
       "<Figure size 640x480 with 1 Axes>"
      ]
     },
     "metadata": {},
     "output_type": "display_data"
    }
   ],
   "source": [
    "test_Kmax = 100\n",
    "test_x_e = np.zeros((test_Kmax, 4))\n",
    "xe1 = 1\n",
    "for test_k in range(test_Kmax):\n",
    "    _, x_e, _, _ = update_x(t=test_k*dt)\n",
    "    for test_l in range(4):\n",
    "        test_x_e[test_k, test_l] = x_e[test_l]\n",
    "\n",
    "plt.scatter(test_x_e[:, 0], np.arange(test_Kmax))\n",
    "plt.scatter(test_x_e[:, 1], np.arange(test_Kmax))\n",
    "plt.scatter(test_x_e[:, 2], np.arange(test_Kmax))\n",
    "plt.scatter(test_x_e[:, 3], np.arange(test_Kmax))"
   ]
  },
  {
   "cell_type": "code",
   "execution_count": 96,
   "id": "f3c78bf6-77df-4e98-ab95-b15aaeb5aeac",
   "metadata": {
    "tags": []
   },
   "outputs": [],
   "source": [
    "Tmax = 3 / (L/U) # [-] non-dimentional time\n",
    "dt = 0.0005\n",
    "n = 100\n",
    "\n",
    "x_c, x_e, dx, delta_x = update_x(t=0)\n",
    "    \n",
    "# initial condition\n",
    "Q = np.zeros((n, 3), np.float64)\n",
    "Q[:, 0] = non_Rho\n",
    "Q[:, 1] = non_Rho * 0\n",
    "Q[:, 2] = 1/2*non_Rho*0**2 + ( non_P ) / g1\n",
    "\n",
    "for i in range(n):\n",
    "    if ( x_c[i] > 0.5 ):\n",
    "        Q[i, 2] = 1/2*non_Rho*0**2 + ( non_P / 10 ) / g1\n",
    "        # pass\n"
   ]
  },
  {
   "cell_type": "code",
   "execution_count": 119,
   "id": "47d45695-e3c5-4d45-9925-f05bbb494cfb",
   "metadata": {
    "tags": []
   },
   "outputs": [],
   "source": [
    "def calc_CFL(Q, dx, dt):\n",
    "    U = np.abs(Q[:, 1] / Q[:, 0])\n",
    "    CFL = np.max(U*dt / dx)\n",
    "    return CFL\n",
    "\n",
    "def set_dtau(Q, dx, dt):\n",
    "    CFL = calc_CFL(Q, dx, dt)\n",
    "    if ( CFL < 1 ):\n",
    "        alpha = 2.1\n",
    "    else:\n",
    "        alpha = 1.22/CFL - 0.07*CFL + 0.95\n",
    "    dtau = alpha*dt\n",
    "    return dtau"
   ]
  },
  {
   "cell_type": "code",
   "execution_count": 30,
   "id": "641500dc-7ac0-49dc-91d7-69eb6fdf45a4",
   "metadata": {
    "tags": []
   },
   "outputs": [],
   "source": [
    "import matplotlib.pyplot as plt\n",
    "# plt.scatter(x_c, Q[:, 2])"
   ]
  },
  {
   "cell_type": "code",
   "execution_count": 37,
   "id": "159c4850-2d92-469e-8ec0-23279df47c6e",
   "metadata": {
    "tags": []
   },
   "outputs": [],
   "source": [
    "def bc_refrect(q):\n",
    "    rho, u, e, p = q2b(q)\n",
    "    qB = np.zeros(3)\n",
    "    qB[0] = rho\n",
    "    qB[1] = - rho * u\n",
    "    qB[2] = e\n",
    "    return qB"
   ]
  },
  {
   "cell_type": "markdown",
   "id": "a433d8b9-db85-4081-af74-5baa94fc3667",
   "metadata": {},
   "source": [
    "## Time step\n",
    "$\\displaystyle L\\left( Q_i^{n + 1}, Q_i^{n}\\right) = \n",
    "\\frac{1}{\\Delta t} \\left( \n",
    "        Q_i^{n+1}\n",
    "        - \\frac{ \\Delta x_i^{n} }{ \\Delta x_i^{n+1} } Q_i^{n}\n",
    "    \\right)\n",
    "    + \n",
    "    \\frac{1}{\\Delta x_i^{n+1}} \\left(\n",
    "        F_{i + \\frac{1}{2}}^{ n + \\frac{1}{2}}\n",
    "      - F_{i - \\frac{1}{2}}^{ n + \\frac{1}{2}}\n",
    "    \\right)\n",
    "    - \\frac{1}{\\Delta t} \\left(\n",
    "        \\frac{ \\delta x_{i + \\frac{1}{2}}^{ n + \\frac{1}{2}} }\n",
    "             {\\Delta x_{i}^{ n + 1}}\n",
    "        Q_{i + \\frac{1}{2}}^{ n + \\frac{1}{2}}\n",
    "      - \\frac{ \\delta x_{i - \\frac{1}{2}}^{ n + \\frac{1}{2}} }\n",
    "             {\\Delta x_{i}^{ n + 1}}\n",
    "        Q_{i - \\frac{1}{2}}^{ n + \\frac{1}{2}}\n",
    "    \\right)\n",
    "$"
   ]
  },
  {
   "cell_type": "code",
   "execution_count": 121,
   "id": "76cb24e0-69c9-4df4-8b7a-986958a31b1e",
   "metadata": {
    "tags": []
   },
   "outputs": [
    {
     "name": "stdout",
     "output_type": "stream",
     "text": [
      "0 0.0 0.0010500000000000002\n",
      "1 0.001257039959537746 0.0010500000000000002\n",
      "2 0.0024761645563896083 0.0010500000000000002\n",
      "3 0.0036574394818184746 0.0010500000000000002\n",
      "4 0.004800851744448624 0.0010500000000000002\n",
      "5 0.005906465077272383 0.0010500000000000002\n",
      "6 0.006974455671362271 0.0010500000000000002\n",
      "7 0.008005123263035041 0.0010500000000000002\n",
      "8 0.008998888565778743 0.0010500000000000002\n",
      "9 0.009956283428724738 0.0010500000000000002\n",
      "10 0.01087793748897769 0.0010500000000000002\n",
      "11 0.011764563552478962 0.0010500000000000002\n",
      "12 0.012616943015898968 0.0010500000000000002\n",
      "13 0.013435912076383038 0.0010500000000000002\n",
      "14 0.014222349124782607 0.0010500000000000002\n",
      "15 0.014977163499153356 0.0010500000000000002\n",
      "16 0.01570128563985304 0.0010500000000000002\n",
      "17 0.016395658605610205 0.0010500000000000002\n",
      "18 0.017061230862636046 0.0010500000000000002\n",
      "19 0.017698950234189666 0.0010500000000000002\n",
      "20 0.018309758888007847 0.0010500000000000002\n",
      "21 0.01889458923841862 0.0010500000000000002\n",
      "22 0.019454360645138447 0.0010500000000000002\n",
      "23 0.01998997679928392 0.0010500000000000002\n",
      "24 0.020502323697334058 0.0010500000000000002\n",
      "25 0.020992268114535206 0.0010500000000000002\n",
      "26 0.021460656499859836 0.0010500000000000002\n",
      "27 0.021908314224618364 0.0010500000000000002\n",
      "28 0.022336045125984947 0.0010500000000000002\n",
      "29 0.02274463129488918 0.0010500000000000002\n",
      "30 0.02313483306493738 0.0010500000000000002\n",
      "31 0.023507389165296634 0.0010500000000000002\n",
      "32 0.023863017005875016 0.0010500000000000002\n",
      "33 0.024202413067751134 0.0010500000000000002\n",
      "34 0.02452625337574321 0.0010500000000000002\n",
      "35 0.024835194033348287 0.0010500000000000002\n",
      "36 0.025129871803125772 0.0010500000000000002\n",
      "37 0.025410904718030685 0.0010500000000000002\n",
      "38 0.025678892711251917 0.0010500000000000002\n",
      "39 0.025934418253919175 0.0010500000000000002\n",
      "40 0.026178047709538646 0.0010500000000000002\n",
      "41 0.026410329747566342 0.0010500000000000002\n",
      "42 0.02663179823113049 0.0010500000000000002\n",
      "43 0.026842972027947096 0.0010500000000000002\n",
      "44 0.02704435557541696 0.0010500000000000002\n",
      "45 0.02723643941637384 0.0010500000000000002\n",
      "46 0.027419700702589426 0.0010500000000000002\n",
      "47 0.027594603663853422 0.0010500000000000002\n",
      "48 0.0277616000411362 0.0010500000000000002\n",
      "49 0.02792112948296527 0.0010500000000000002\n",
      "50 0.0280736199047232 0.0010500000000000002\n",
      "51 0.02821948781112763 0.0010500000000000002\n",
      "52 0.028965879470139105 0.0010500000000000002\n",
      "53 0.02987136952306655 0.0010500000000000002\n",
      "54 0.03076080992211763 0.0010500000000000002\n",
      "55 0.031633672348196126 0.0010500000000000002\n",
      "56 0.03248950925383525 0.0010500000000000002\n",
      "57 0.03332792937404298 0.0010500000000000002\n",
      "58 0.03414857580074975 0.0010500000000000002\n",
      "59 0.034951106828697516 0.0010500000000000002\n",
      "60 0.03573518027597038 0.0010500000000000002\n",
      "61 0.03650044096810233 0.0010500000000000002\n",
      "62 0.03724651165417262 0.0010500000000000002\n",
      "63 0.037972987248108776 0.0010500000000000002\n",
      "64 0.038679432261736334 0.0010500000000000002\n",
      "65 0.03936538123277415 0.0010500000000000002\n",
      "66 0.04003034189774068 0.0010500000000000002\n",
      "67 0.04067380081526921 0.0010500000000000002\n",
      "68 0.041295231104508015 0.0010500000000000002\n",
      "69 0.04189410193946055 0.0010500000000000002\n",
      "70 0.04246988940443541 0.0010500000000000002\n",
      "71 0.04302208830581336 0.0010500000000000002\n",
      "72 0.04355022452120376 0.0010500000000000002\n",
      "73 0.044053867465618124 0.0010500000000000002\n",
      "74 0.044532642261934166 0.0010500000000000002\n",
      "75 0.04498624122044036 0.0010500000000000002\n",
      "76 0.045414434262885016 0.0010500000000000002\n",
      "77 0.050589590916375375 0.0010500000000000002\n",
      "78 0.056303582985758875 0.0010500000000000002\n",
      "79 0.06230573704977435 0.0010500000000000002\n",
      "80 0.06855930966740681 0.0010500000000000002\n",
      "81 0.07502203301391842 0.0010500000000000002\n",
      "82 0.08164690299012387 0.0010500000000000002\n",
      "83 0.08838321768327646 0.0010500000000000002\n",
      "84 0.09517787286469392 0.0010500000000000002\n",
      "85 0.10197688264865934 0.0010500000000000002\n",
      "86 0.10872704760222068 0.0010500000000000002\n",
      "87 0.11695747222993341 0.0010500000000000002\n",
      "88 0.13001002082025434 0.0010500000000000002\n",
      "89 0.14361551452781143 0.0010500000000000002\n",
      "90 0.15773368945409721 0.0010500000000000002\n",
      "not converge\n",
      "1.3609487306196829e-06\n",
      "91 0.17232772310522734 0.0010500000000000002\n",
      "not converge\n",
      "5.745190051633741e-06\n",
      "92 0.18736438490913168 0.0010500000000000002\n",
      "93 0.20281378096987412 0.0010500000000000002\n",
      "not converge\n",
      "0.00024063347545160655\n",
      "94 0.21864875203702916 0.0010500000000000002\n",
      "not converge\n",
      "0.0020284662436725882\n",
      "95 0.23484397184668218 0.0010500000000000002\n"
     ]
    },
    {
     "ename": "ValueError",
     "evalue": "math domain error",
     "output_type": "error",
     "traceback": [
      "\u001b[0;31m---------------------------------------------------------------------------\u001b[0m",
      "\u001b[0;31mValueError\u001b[0m                                Traceback (most recent call last)",
      "Cell \u001b[0;32mIn[121], line 80\u001b[0m\n\u001b[1;32m     76\u001b[0m         dxn1 \u001b[38;5;241m=\u001b[39m dxn\n\u001b[1;32m     78\u001b[0m     \u001b[38;5;28;01mreturn\u001b[39;00m Q_store\n\u001b[0;32m---> 80\u001b[0m Qsr \u001b[38;5;241m=\u001b[39m \u001b[43mrrk2\u001b[49m\u001b[43m(\u001b[49m\u001b[43mQ\u001b[49m\u001b[43m)\u001b[49m\n",
      "Cell \u001b[0;32mIn[121], line 48\u001b[0m, in \u001b[0;36mrrk2\u001b[0;34m(Q)\u001b[0m\n\u001b[1;32m     45\u001b[0m \u001b[38;5;28;01mif\u001b[39;00m ( count \u001b[38;5;241m==\u001b[39m \u001b[38;5;241m0\u001b[39m ):\n\u001b[1;32m     46\u001b[0m     Qn1 \u001b[38;5;241m=\u001b[39m Qn\n\u001b[0;32m---> 48\u001b[0m s1 \u001b[38;5;241m=\u001b[39m \u001b[38;5;241m-\u001b[39mdtau \u001b[38;5;241m*\u001b[39m \u001b[43mcalc_L\u001b[49m\u001b[43m(\u001b[49m\u001b[43mQn1\u001b[49m\u001b[43m,\u001b[49m\u001b[43m \u001b[49m\u001b[43mQn\u001b[49m\u001b[43m,\u001b[49m\u001b[43m \u001b[49m\u001b[43mdxn1\u001b[49m\u001b[43m,\u001b[49m\u001b[43m \u001b[49m\u001b[43mdxn\u001b[49m\u001b[43m,\u001b[49m\u001b[43m \u001b[49m\u001b[43mdelta_x\u001b[49m\u001b[43m,\u001b[49m\u001b[43m \u001b[49m\u001b[43mdt\u001b[49m\u001b[43m)\u001b[49m \u001b[38;5;66;03m# s1 == g1\u001b[39;00m\n\u001b[1;32m     49\u001b[0m s2 \u001b[38;5;241m=\u001b[39m \u001b[38;5;241m-\u001b[39mdtau \u001b[38;5;241m*\u001b[39m calc_L(Qn1 \u001b[38;5;241m+\u001b[39m c2 \u001b[38;5;241m*\u001b[39m s1, Qn, dxn1, dxn, delta_x, dt) \u001b[38;5;66;03m# s1 == g1\u001b[39;00m\n\u001b[1;32m     50\u001b[0m s3 \u001b[38;5;241m=\u001b[39m b1\u001b[38;5;241m*\u001b[39ms1 \u001b[38;5;241m+\u001b[39m b2\u001b[38;5;241m*\u001b[39ms2\n",
      "Cell \u001b[0;32mIn[121], line 15\u001b[0m, in \u001b[0;36mcalc_L\u001b[0;34m(Qn1, Qn, dxn1, dxn, delta_x, dt)\u001b[0m\n\u001b[1;32m     12\u001b[0m qBn1[:, \u001b[38;5;241m1\u001b[39m] \u001b[38;5;241m=\u001b[39m bc_refrect(Qn1[n\u001b[38;5;241m-\u001b[39m\u001b[38;5;241m1\u001b[39m, :])\n\u001b[1;32m     14\u001b[0m Fn  \u001b[38;5;241m=\u001b[39m flux(Qn , qBn)\n\u001b[0;32m---> 15\u001b[0m Fn1 \u001b[38;5;241m=\u001b[39m \u001b[43mflux\u001b[49m\u001b[43m(\u001b[49m\u001b[43mQn1\u001b[49m\u001b[43m,\u001b[49m\u001b[43m \u001b[49m\u001b[43mqBn1\u001b[49m\u001b[43m)\u001b[49m\n\u001b[1;32m     16\u001b[0m Fn12 \u001b[38;5;241m=\u001b[39m (Fn \u001b[38;5;241m+\u001b[39m Fn1) \u001b[38;5;241m/\u001b[39m \u001b[38;5;241m2\u001b[39m\n\u001b[1;32m     18\u001b[0m Qijn  \u001b[38;5;241m=\u001b[39m roeQ(Qn,  qBn)\n",
      "Cell \u001b[0;32mIn[42], line 14\u001b[0m, in \u001b[0;36mflux\u001b[0;34m(Q, qB)\u001b[0m\n\u001b[1;32m     11\u001b[0m     \u001b[38;5;28;01melse\u001b[39;00m:\n\u001b[1;32m     12\u001b[0m         qj \u001b[38;5;241m=\u001b[39m Q[j  , :]\n\u001b[0;32m---> 14\u001b[0m     F[j, :] \u001b[38;5;241m=\u001b[39m \u001b[43mroe_fds\u001b[49m\u001b[43m(\u001b[49m\u001b[43mqi\u001b[49m\u001b[43m,\u001b[49m\u001b[43m \u001b[49m\u001b[43mqj\u001b[49m\u001b[43m)\u001b[49m\n\u001b[1;32m     16\u001b[0m \u001b[38;5;28;01mreturn\u001b[39;00m F\n",
      "Cell \u001b[0;32mIn[61], line 29\u001b[0m, in \u001b[0;36mroe_fds\u001b[0;34m(qi, qj)\u001b[0m\n\u001b[1;32m     28\u001b[0m \u001b[38;5;28;01mdef\u001b[39;00m \u001b[38;5;21mroe_fds\u001b[39m(qi, qj):\n\u001b[0;32m---> 29\u001b[0m     rho, u, H, a \u001b[38;5;241m=\u001b[39m \u001b[43mget_roe_average\u001b[49m\u001b[43m(\u001b[49m\u001b[43mqi\u001b[49m\u001b[43m,\u001b[49m\u001b[43m \u001b[49m\u001b[43mqj\u001b[49m\u001b[43m)\u001b[49m\n\u001b[1;32m     31\u001b[0m     P \u001b[38;5;241m=\u001b[39m np\u001b[38;5;241m.\u001b[39mzeros((\u001b[38;5;241m3\u001b[39m,\u001b[38;5;241m3\u001b[39m))\n\u001b[1;32m     32\u001b[0m     invP \u001b[38;5;241m=\u001b[39m np\u001b[38;5;241m.\u001b[39mzeros((\u001b[38;5;241m3\u001b[39m,\u001b[38;5;241m3\u001b[39m))\n",
      "Cell \u001b[0;32mIn[61], line 25\u001b[0m, in \u001b[0;36mget_roe_average\u001b[0;34m(qi, qj)\u001b[0m\n\u001b[1;32m     23\u001b[0m u \u001b[38;5;241m=\u001b[39m ( sqrt(rho_i) \u001b[38;5;241m*\u001b[39m u_i \u001b[38;5;241m+\u001b[39m sqrt(rho_j) \u001b[38;5;241m*\u001b[39m u_j ) \u001b[38;5;241m/\u001b[39m (sqrt(rho_i) \u001b[38;5;241m+\u001b[39m sqrt(rho_j) )\n\u001b[1;32m     24\u001b[0m H \u001b[38;5;241m=\u001b[39m ( sqrt(rho_i) \u001b[38;5;241m*\u001b[39m H_i \u001b[38;5;241m+\u001b[39m sqrt(rho_j) \u001b[38;5;241m*\u001b[39m H_j ) \u001b[38;5;241m/\u001b[39m (sqrt(rho_i) \u001b[38;5;241m+\u001b[39m sqrt(rho_j) )\n\u001b[0;32m---> 25\u001b[0m a \u001b[38;5;241m=\u001b[39m sqrt( g1 \u001b[38;5;241m*\u001b[39m ( H \u001b[38;5;241m-\u001b[39m u\u001b[38;5;241m*\u001b[39m\u001b[38;5;241m*\u001b[39m\u001b[38;5;241m2\u001b[39m\u001b[38;5;241m/\u001b[39m\u001b[38;5;241m2\u001b[39m ) )\n\u001b[1;32m     26\u001b[0m \u001b[38;5;28;01mreturn\u001b[39;00m rho, u, H, a\n",
      "\u001b[0;31mValueError\u001b[0m: math domain error"
     ]
    }
   ],
   "source": [
    "plot_dt = 2\n",
    "Nmax = int(0.25/dt)#int(Tmax / dt)\n",
    "Pmax = int(Nmax / plot_dt )\n",
    "\n",
    "def calc_L(Qn1, Qn, dxn1, dxn, delta_x, dt):\n",
    "    qBn  = np.zeros((3, 2))\n",
    "    qBn1 = np.zeros((3, 2))\n",
    "    # set boundary \n",
    "    qBn[:, 0]  = bc_refrect(Qn[0, :])\n",
    "    qBn[:, 1]  = bc_refrect(Qn[n-1, :])\n",
    "    qBn1[:, 0] = bc_refrect(Qn1[0, :])\n",
    "    qBn1[:, 1] = bc_refrect(Qn1[n-1, :])\n",
    "    \n",
    "    Fn  = flux(Qn , qBn)\n",
    "    Fn1 = flux(Qn1, qBn1)\n",
    "    Fn12 = (Fn + Fn1) / 2\n",
    "    \n",
    "    Qijn  = roeQ(Qn,  qBn)\n",
    "    Qijn1 = roeQ(Qn1, qBn1)\n",
    "    Qij12 = (Qijn + Qijn1) / 2\n",
    "    L = np.zeros((n, 3))\n",
    "    for i in range(n):\n",
    "        m1 = i\n",
    "        p1 = i + 1\n",
    "        L[i, :] = 1/dt * (Qn1[i, :] - dxn[i]/dxn1[i] * Qn[i, :]) + 1/dxn1[i] * (Fn12[p1, :] - Fn12[m1, :]) - 1/dt * (delta_x[p1]/dxn1[i] * Qij12[p1, :] - delta_x[m1]/dxn1[i] * Qij12[m1, :])\n",
    "    return L\n",
    "\n",
    "def rrk2(Q):\n",
    "    def dot(a, b):\n",
    "        return np.sum(a*b)\n",
    "        \n",
    "    Q_store = np.zeros((n, 3, Pmax))\n",
    "    x_e_0 = None\n",
    "    retry = 100\n",
    "    fixed_grid=False\n",
    "    epsilon = 10**(-6)\n",
    "    _, _, dxn, _ = update_x(t=0*dt, x_e_0=None, fixed=fixed_grid)\n",
    "    Qn = Q\n",
    "    for k in range(Nmax):\n",
    "        x_c, x_e, dxn1, delta_x = update_x(t=(k+1)*dt, x_e_0=x_e_0, fixed=fixed_grid)\n",
    "        dtau = set_dtau(Qn, dxn1, dt)\n",
    "        # iteration\n",
    "        for count in range(retry + 1):\n",
    "            if ( count == 0 ):\n",
    "                Qn1 = Qn\n",
    "                \n",
    "            s1 = -dtau * calc_L(Qn1, Qn, dxn1, dxn, delta_x, dt) # s1 == g1\n",
    "            s2 = -dtau * calc_L(Qn1 + c2 * s1, Qn, dxn1, dxn, delta_x, dt) # s1 == g1\n",
    "            s3 = b1*s1 + b2*s2\n",
    "            ss11 = dot(s1, s1)\n",
    "            ss13 = dot(s1, s3)\n",
    "            ss33 = dot(s3, s3)\n",
    "            dQ = (2*s1*ss13 - s3*ss11) / ss33\n",
    "            Qn1 = Qn1 + dQ\n",
    "            \n",
    "            res = np.sqrt(np.sum((dQ)**2) / (3*n))\n",
    "            \n",
    "            if ( res < epsilon ):\n",
    "                break\n",
    "                \n",
    "            if ( count == retry ):\n",
    "                print(\"not converge\")\n",
    "                print(res)\n",
    "\n",
    "        if ( k % plot_dt == 0 ):\n",
    "            # print(k, count, res)\n",
    "            m = int(k / plot_dt)\n",
    "            Q_store[:, 0, m] = Qn1[:, 0]\n",
    "            Q_store[:, 1, m] = Qn1[:, 1]\n",
    "            Q_store[:, 2, m] = Qn1[:, 2]\n",
    "\n",
    "        # prepare for next time step\n",
    "        Qn = Qn1\n",
    "        x_e_0 = x_e\n",
    "        dxn1 = dxn\n",
    "            \n",
    "    return Q_store\n",
    "    \n",
    "Qsr = rrk2(Q)\n",
    "    "
   ]
  },
  {
   "cell_type": "code",
   "execution_count": null,
   "id": "2219e5db-8554-4eca-8cd8-dda0921279fe",
   "metadata": {
    "tags": []
   },
   "outputs": [],
   "source": [
    "rho_plt = Qsr[:, 0, :]\n",
    "u_plt = Qsr[:, 1, :] / Qsr[:, 0, :] \n",
    "p_plt = ( Qsr[:, 2, :] - 1/2 * rho_plt * u_plt**2 ) / g1\n",
    "\n",
    "from matplotlib.animation import ArtistAnimation\n",
    "from IPython import display \n",
    "\n",
    "fig = plt.figure(figsize=(5,10))\n",
    "ax1 = fig.add_subplot(311)\n",
    "ax2 = fig.add_subplot(312)\n",
    "ax3 = fig.add_subplot(313)\n",
    "plt.xlim(0, 1)\n",
    "# ax1.set_ylim(0, int(np.max(rho_plt)+0.5))\n",
    "# ax2.set_ylim(-1, 1)\n",
    "# ax3.set_ylim(0, 2)\n",
    "\n",
    "\n",
    "frames = []\n",
    "x = x_c\n",
    "y1 = rho_plt\n",
    "y2 = u_plt\n",
    "y3 = p_plt / np.max(p_plt[:, 0])\n",
    "num_frames = rho_plt.shape[1]\n",
    "for i in range(num_frames):\n",
    "    \n",
    "    frame1 = ax1.plot(x, y1[:, i], label='Density', color='blue')\n",
    "    frame2 = ax2.plot(x, y2[:, i], label='Velocity', color='orange')\n",
    "    frame3 = ax3.plot(x, y3[:, i], label='Pressure', color='green')\n",
    "    \n",
    "    if ( i == 0 ):\n",
    "        ax1.legend()\n",
    "        ax2.legend()\n",
    "        ax3.legend()\n",
    "    frames.append(frame1 + frame2 + frame3)\n",
    "    \n",
    "# 描画\n",
    "ani = ArtistAnimation(fig, frames, interval=100)\n",
    "html = display.HTML(ani.to_jshtml())\n",
    "display.display(html)\n",
    "plt.close()"
   ]
  },
  {
   "cell_type": "code",
   "execution_count": null,
   "id": "64a4a6d6-090b-4a20-b9b5-433829b3869a",
   "metadata": {},
   "outputs": [],
   "source": []
  }
 ],
 "metadata": {
  "kernelspec": {
   "display_name": "Python 3 (ipykernel)",
   "language": "python",
   "name": "python3"
  },
  "language_info": {
   "codemirror_mode": {
    "name": "ipython",
    "version": 3
   },
   "file_extension": ".py",
   "mimetype": "text/x-python",
   "name": "python",
   "nbconvert_exporter": "python",
   "pygments_lexer": "ipython3",
   "version": "3.11.4"
  }
 },
 "nbformat": 4,
 "nbformat_minor": 5
}
